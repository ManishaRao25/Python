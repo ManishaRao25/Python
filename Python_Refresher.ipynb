{
 "cells": [
  {
   "cell_type": "markdown",
   "metadata": {},
   "source": [
    "# Principles of OOPs(Object Orirnted Programming):\n",
    "\n",
    "1.Encapsulation\n",
    "\n",
    "2.Abstraction\n",
    "\n",
    "3.Inheritance\n",
    "\n",
    "4.Polymorphism"
   ]
  },
  {
   "cell_type": "markdown",
   "metadata": {},
   "source": [
    "# Encapsulation\n",
    "Encapsulation is the bundling of data (attributes) and methods (functions) that operate on the data into a single unit or class. It also restricts direct access to some of the object's components, which can prevent the accidental modification of data."
   ]
  },
  {
   "cell_type": "code",
   "execution_count": 13,
   "metadata": {},
   "outputs": [
    {
     "name": "stdout",
     "output_type": "stream",
     "text": [
      "John\n",
      "30\n",
      "35\n"
     ]
    }
   ],
   "source": [
    "class Person:\n",
    "    def __init__(self, name, age):\n",
    "        self.__name = name  # Private attribute\n",
    "        self.__age = age    # Private attribute\n",
    "\n",
    "    def get_name(self):\n",
    "        return self.__name\n",
    "\n",
    "    def set_name(self, name):\n",
    "        self.__name = name\n",
    "\n",
    "    def get_age(self):\n",
    "        return self.__age\n",
    "\n",
    "    def set_age(self, age):\n",
    "        if age > 0:\n",
    "            self.__age = age\n",
    "        else:\n",
    "            print(\"Age must be positive\")\n",
    "\n",
    "# Create a Person object\n",
    "person = Person(\"John\", 30)\n",
    "\n",
    "# Accessing private attributes via getter methods\n",
    "print(person.get_name())  # Output: John\n",
    "print(person.get_age())   # Output: 30\n",
    "\n",
    "# Modifying private attributes via setter methods\n",
    "person.set_age(35)\n",
    "print(person.get_age())   # Output: 35\n"
   ]
  },
  {
   "cell_type": "markdown",
   "metadata": {},
   "source": [
    "# Abstraction\n",
    "Abstraction is the concept of hiding the complex implementation details and showing only the essential features of the object. It allows the user to interact with the object at a high level without needing to understand the underlying complexity."
   ]
  },
  {
   "cell_type": "code",
   "execution_count": 14,
   "metadata": {},
   "outputs": [
    {
     "name": "stdout",
     "output_type": "stream",
     "text": [
      "Bark\n",
      "Meow\n"
     ]
    }
   ],
   "source": [
    "from abc import ABC, abstractmethod\n",
    "\n",
    "class Animal(ABC):\n",
    "    @abstractmethod\n",
    "    def sound(self):\n",
    "        pass\n",
    "\n",
    "class Dog(Animal):\n",
    "    def sound(self):\n",
    "        return \"Bark\"\n",
    "\n",
    "class Cat(Animal):\n",
    "    def sound(self):\n",
    "        return \"Meow\"\n",
    "\n",
    "# Instantiate objects\n",
    "dog = Dog()\n",
    "cat = Cat()\n",
    "\n",
    "print(dog.sound())  # Output: Bark\n",
    "print(cat.sound())  # Output: Meow\n"
   ]
  },
  {
   "cell_type": "markdown",
   "metadata": {},
   "source": [
    "#  Inheritance\n",
    "Inheritance is the mechanism by which one class (child class) can inherit attributes and methods from another class (parent class). This allows for code reuse and the creation of a hierarchical relationship between classes."
   ]
  },
  {
   "cell_type": "code",
   "execution_count": 15,
   "metadata": {},
   "outputs": [
    {
     "name": "stdout",
     "output_type": "stream",
     "text": [
      "Brand: Toyota, Model: Corolla, Doors: 4\n"
     ]
    }
   ],
   "source": [
    "class Vehicle:\n",
    "    def __init__(self, brand, model):\n",
    "        self.brand = brand\n",
    "        self.model = model\n",
    "\n",
    "    def info(self):\n",
    "        return f\"Brand: {self.brand}, Model: {self.model}\"\n",
    "\n",
    "class Car(Vehicle):\n",
    "    def __init__(self, brand, model, doors):\n",
    "        super().__init__(brand, model)\n",
    "        self.doors = doors\n",
    "\n",
    "    def car_info(self):\n",
    "        return f\"{self.info()}, Doors: {self.doors}\"\n",
    "\n",
    "# Create a Car object\n",
    "car = Car(\"Toyota\", \"Corolla\", 4)\n",
    "print(car.car_info())  # Output: Brand: Toyota, Model: Corolla, Doors: 4\n"
   ]
  },
  {
   "cell_type": "markdown",
   "metadata": {},
   "source": [
    "#  Polymorphism\n",
    "Polymorphism allows methods to do different things based on the object it is acting upon. It means \"many forms\", and it occurs when we have many classes that are related by inheritance."
   ]
  },
  {
   "cell_type": "code",
   "execution_count": 16,
   "metadata": {},
   "outputs": [
    {
     "name": "stdout",
     "output_type": "stream",
     "text": [
      "Area: 12\n",
      "Area: 78.5\n"
     ]
    }
   ],
   "source": [
    "class Shape:\n",
    "    def area(self):\n",
    "        pass\n",
    "\n",
    "class Rectangle(Shape):\n",
    "    def __init__(self, width, height):\n",
    "        self.width = width\n",
    "        self.height = height\n",
    "\n",
    "    def area(self):\n",
    "        return self.width * self.height\n",
    "\n",
    "class Circle(Shape):\n",
    "    def __init__(self, radius):\n",
    "        self.radius = radius\n",
    "\n",
    "    def area(self):\n",
    "        return 3.14 * self.radius * self.radius\n",
    "\n",
    "# Instantiate objects\n",
    "shapes = [Rectangle(3, 4), Circle(5)]\n",
    "\n",
    "for shape in shapes:\n",
    "    print(f\"Area: {shape.area()}\")\n"
   ]
  },
  {
   "cell_type": "markdown",
   "metadata": {},
   "source": [
    "#### Dictionary"
   ]
  },
  {
   "cell_type": "code",
   "execution_count": 1,
   "metadata": {},
   "outputs": [],
   "source": [
    "user_dictionary = {\n",
    "    'username': 'codingwithroby',\n",
    "    'name': 'Eric',\n",
    "    'age': 32\n",
    "}\n"
   ]
  },
  {
   "cell_type": "code",
   "execution_count": 2,
   "metadata": {},
   "outputs": [
    {
     "name": "stdout",
     "output_type": "stream",
     "text": [
      "{'username': 'codingwithroby', 'name': 'Eric'}\n"
     ]
    }
   ],
   "source": [
    "user_dictionary2 = user_dictionary.copy()\n",
    "user_dictionary2.pop(\"age\")\n",
    "print(user_dictionary2)\n"
   ]
  },
  {
   "cell_type": "markdown",
   "metadata": {},
   "source": [
    "### Based on the dictionary:\n",
    "my_vehicle = {\n",
    "    \"model\": \"Ford\",\n",
    "    \"make\": \"Explorer\",\n",
    "    \"year\": 2018,\n",
    "    \"mileage\": 40000\n",
    "}\n",
    " - Create a for loop to print all keys and values\n",
    " - Create a new variable vehicle2, which is a copy of my_vehicle\n",
    " - Add a new key 'number_of_tires' to the vehicle2 variable that is equal to 4\n",
    " - Delete the mileage key and value from vehicle2\n",
    " - Print just the keys from vehicle2\n",
    "\n"
   ]
  },
  {
   "cell_type": "code",
   "execution_count": 3,
   "metadata": {},
   "outputs": [
    {
     "name": "stdout",
     "output_type": "stream",
     "text": [
      "model Ford\n",
      "make Explorer\n",
      "year 2018\n",
      "mileage 40000\n",
      "model\n",
      "make\n",
      "year\n",
      "number_of_tires\n"
     ]
    }
   ],
   "source": [
    "my_vehicle = {\n",
    "    \"model\": \"Ford\",\n",
    "    \"make\": \"Explorer\",\n",
    "    \"year\": 2018,\n",
    "    \"mileage\": 40000\n",
    "}\n",
    "\n",
    "\n",
    "for x, y in my_vehicle.items():\n",
    "    print(x, y)\n",
    "\n",
    "\n",
    "vehicle2 = my_vehicle.copy()\n",
    "\n",
    "\n",
    "vehicle2[\"number_of_tires\"] = 4\n",
    "\n",
    "\n",
    "vehicle2.pop(\"mileage\")\n",
    "\n",
    "\n",
    "for i in vehicle2:\n",
    "    print(i)\n"
   ]
  },
  {
   "cell_type": "markdown",
   "metadata": {},
   "source": [
    "### Functions:"
   ]
  },
  {
   "cell_type": "code",
   "execution_count": 4,
   "metadata": {},
   "outputs": [
    {
     "name": "stdout",
     "output_type": "stream",
     "text": [
      "51.5\n"
     ]
    }
   ],
   "source": [
    "def buy_item(cost_of_item):\n",
    "    return cost_of_item + add_tax_to_item(cost_of_item)\n",
    "\n",
    "\n",
    "def add_tax_to_item(cost_of_item):\n",
    "    current_tax_rate = .03\n",
    "    return cost_of_item * current_tax_rate\n",
    "\n",
    "\n",
    "final_cost = buy_item(50)\n",
    "print(final_cost)\n"
   ]
  },
  {
   "cell_type": "markdown",
   "metadata": {},
   "source": [
    "### Function Assignment\n",
    "- Create a function that takes in 3 parameters(firstname, lastname, age) and returns a dictionary based on those values"
   ]
  },
  {
   "cell_type": "code",
   "execution_count": 6,
   "metadata": {},
   "outputs": [
    {
     "data": {
      "text/plain": [
       "{'firstname': 'Eric', 'lastname': 'Roby', 'age': 24}"
      ]
     },
     "execution_count": 6,
     "metadata": {},
     "output_type": "execute_result"
    }
   ],
   "source": [
    "def user_dictionary(firstname, lastname, age):\n",
    "    created_user_dictionary = { \n",
    "    \"firstname\":firstname,\n",
    "    \"lastname\": lastname,\n",
    "    \"age\": age}\n",
    "    return created_user_dictionary\n",
    "\n",
    "solution_dictionary = user_dictionary(firstname='Eric',lastname = 'Roby', age = 24)\n",
    "solution_dictionary"
   ]
  },
  {
   "cell_type": "markdown",
   "metadata": {},
   "source": [
    "### Flow Control: If Else ElIf"
   ]
  },
  {
   "cell_type": "code",
   "execution_count": 7,
   "metadata": {},
   "outputs": [
    {
     "name": "stdout",
     "output_type": "stream",
     "text": [
      "Good Night!\n"
     ]
    }
   ],
   "source": [
    "hour = 21\n",
    "\n",
    "if hour < 15:\n",
    "    print(\"Good morning!\")\n",
    "elif hour < 20:\n",
    "    print(\"Good afternoon!\")\n",
    "else:\n",
    "    print(\"Good Night!\")"
   ]
  },
  {
   "cell_type": "markdown",
   "metadata": {},
   "source": [
    "- Create a variable (grade) holding an integer between 0 - 100\n",
    "\n",
    "- Code if, elif, else statements to print the letter grade of the number grade variable\n",
    "\n",
    "Grades:\n",
    "\n",
    "A = 90 - 100\n",
    "\n",
    "B = 80 - 89\n",
    "\n",
    "C = 70-79\n",
    "\n",
    "D = 60 - 69\n",
    "\n",
    "F = 0 - 59"
   ]
  },
  {
   "cell_type": "code",
   "execution_count": 10,
   "metadata": {},
   "outputs": [
    {
     "name": "stdout",
     "output_type": "stream",
     "text": [
      "F\n"
     ]
    }
   ],
   "source": [
    "grade = 27\n",
    "if grade >= 90:\n",
    "    print(\"A\")\n",
    "elif 80 <= grade < 90:\n",
    "    print(\"B\")\n",
    "elif 70 <= grade < 80:\n",
    "    print(\"C\")\n",
    "elif 60 <= grade < 70:\n",
    "    print(\"D\")\n",
    "else:\n",
    "    print(\"F\")\n"
   ]
  },
  {
   "cell_type": "code",
   "execution_count": 10,
   "metadata": {},
   "outputs": [
    {
     "name": "stdout",
     "output_type": "stream",
     "text": [
      "Coffee\n",
      "6\n",
      "8.0\n"
     ]
    }
   ],
   "source": [
    "# Random\n",
    "import random\n",
    "types_of_drinks = ['Soda', 'Coffee', 'Water', 'Tea']\n",
    "print(random.choice(types_of_drinks))\n",
    "\n",
    "print(random.randint(1, 10))\n",
    "\n",
    "\n",
    "import math\n",
    "square_root = math.sqrt(64)\n",
    "print(square_root)"
   ]
  },
  {
   "cell_type": "markdown",
   "metadata": {},
   "source": [
    "## Lists"
   ]
  },
  {
   "cell_type": "code",
   "execution_count": 16,
   "metadata": {},
   "outputs": [
    {
     "name": "stdout",
     "output_type": "stream",
     "text": [
      "[80, 96, 72, 100, 8]\n",
      "[80, 96, 72, 100, 8, 1000]\n",
      "[80, 96, 1000, 72, 100, 8, 1000]\n",
      "[80, 96, 1000, 72, 100, 1000]\n",
      "[96, 1000, 72, 100, 1000]\n",
      "[72, 96, 100, 1000, 1000]\n"
     ]
    }
   ],
   "source": [
    "my_list = [80, 96, 72, 100, 8]\n",
    "print(my_list)\n",
    "my_list.append(1000)\n",
    "print(my_list)\n",
    "my_list.insert(2, 1000)\n",
    "print(my_list)\n",
    "my_list.remove(8)\n",
    "print(my_list)\n",
    "my_list.pop(0)\n",
    "print(my_list)\n",
    "my_list.sort()\n",
    "print(my_list)"
   ]
  },
  {
   "cell_type": "markdown",
   "metadata": {},
   "source": [
    "### Assignment\n",
    "- Create a list of 5 animals called zoo\n",
    "- Delete the animal at the 3rd index.\n",
    "- Append a new animal at the end of the list\n",
    "- Delete the animal at the beginning of the list.\n",
    "- Print all the animals\n",
    "- Print only the first 3 animals"
   ]
  },
  {
   "cell_type": "code",
   "execution_count": 17,
   "metadata": {},
   "outputs": [
    {
     "name": "stdout",
     "output_type": "stream",
     "text": [
      "['Zebra', 'Gorilla', 'Tiger', 'Lizard']\n",
      "Zebra\n",
      "Gorilla\n",
      "Tiger\n",
      "Lizard\n",
      "['Zebra', 'Gorilla', 'Tiger']\n",
      "Zebra\n",
      "Gorilla\n",
      "Tiger\n"
     ]
    }
   ],
   "source": [
    "zoo = [\"Monkey\", \"Zebra\", \"Gorilla\", \"Lion\", \"Tiger\"]\n",
    "zoo.pop(3)\n",
    "zoo.append(\"Lizard\")\n",
    "zoo.pop(0)\n",
    "print(zoo)\n",
    "for x in zoo:\n",
    "    print(x)\n",
    "print(zoo[0:3])\n",
    "i = 0\n",
    "while i < 3:\n",
    "    print(zoo[i])\n",
    "    i += 1"
   ]
  },
  {
   "cell_type": "markdown",
   "metadata": {},
   "source": [
    "## For & While loops:"
   ]
  },
  {
   "cell_type": "code",
   "execution_count": 18,
   "metadata": {},
   "outputs": [
    {
     "name": "stdout",
     "output_type": "stream",
     "text": [
      "1\n",
      "2\n",
      "4\n"
     ]
    }
   ],
   "source": [
    "i = 0\n",
    "\n",
    "while i < 5:\n",
    "    i += 1\n",
    "    if i == 3:\n",
    "        continue\n",
    "    print(i)\n",
    "    if i == 4:\n",
    "        break\n",
    "else:\n",
    "    print(\"i is now larger or equal to 5\")\n"
   ]
  },
  {
   "cell_type": "markdown",
   "metadata": {},
   "source": [
    "## Assignment\n",
    "Given the variable my_list = [\"Monday\", \"Tuesday\", \"Wednesday\", \"Thursday\", \"Friday\"]\n",
    "- Create a while loop that prints all elements of the my_list variable 3 times.\n",
    "- When printing the elements use a for loop to print the elements\n",
    "- However, if the element of the for loop is equal to Monday, continue without printing"
   ]
  },
  {
   "cell_type": "code",
   "execution_count": 19,
   "metadata": {},
   "outputs": [
    {
     "name": "stdout",
     "output_type": "stream",
     "text": [
      "------\n",
      "Tuesday\n",
      "Wednesday\n",
      "Thursday\n",
      "Friday\n",
      "------\n",
      "Tuesday\n",
      "Wednesday\n",
      "Thursday\n",
      "Friday\n",
      "------\n",
      "Tuesday\n",
      "Wednesday\n",
      "Thursday\n",
      "Friday\n"
     ]
    }
   ],
   "source": [
    "my_list = [\"Monday\", \"Tuesday\", \"Wednesday\", \"Thursday\", \"Friday\"]\n",
    "\n",
    "x = 0\n",
    "while x < 3:\n",
    "    x += 1\n",
    "    for i in my_list:\n",
    "        if i == \"Monday\":\n",
    "            print(\"------\")\n",
    "            continue\n",
    "        print(i)\n"
   ]
  },
  {
   "cell_type": "markdown",
   "metadata": {},
   "source": [
    "## Sets and Tuples\n",
    "\n",
    "Sets are similar to lists but are unordered and cannot contain duplications\n",
    "Use curly brackets"
   ]
  },
  {
   "cell_type": "code",
   "execution_count": 51,
   "metadata": {},
   "outputs": [
    {
     "name": "stdout",
     "output_type": "stream",
     "text": [
      "{1, 2, 3, 4, 5}\n",
      "5\n",
      "1\n",
      "2\n",
      "3\n",
      "4\n",
      "5\n",
      "{1, 2, 4, 5}\n",
      "{1, 2, 4, 5, 6}\n",
      "{1, 2, 4, 5, 6, 7, 8}\n"
     ]
    }
   ],
   "source": [
    "my_set = {1, 2, 3, 4, 5, 1, 2}\n",
    "print(my_set)\n",
    "print(len(my_set))\n",
    "\n",
    "\n",
    "for x in my_set:\n",
    "    print(x)\n",
    "\n",
    "\n",
    "my_set.discard(3)\n",
    "print(my_set)\n",
    "my_set.add(6)\n",
    "print(my_set)\n",
    "my_set.update([7, 8])\n",
    "print(my_set)\n",
    "\n",
    "\n",
    "#my_tuple = (1, 2, 3, 4, 5)\n",
    "#print(my_tuple[1])\n",
    "#my_tuple[1] = 100\n"
   ]
  },
  {
   "cell_type": "markdown",
   "metadata": {},
   "source": [
    "# Strings"
   ]
  },
  {
   "cell_type": "code",
   "execution_count": 52,
   "metadata": {},
   "outputs": [
    {
     "name": "stdout",
     "output_type": "stream",
     "text": [
      "How many days until your birthday? 40\n",
      "5.71\n"
     ]
    }
   ],
   "source": [
    "'''\n",
    "String Assignment we will do together:\n",
    "\n",
    "Ask the user how many days until their birthday\n",
    "and print an approx number of weeks until their birthday\n",
    "\n",
    "Weeks is = 7 days\n",
    "\n",
    "decimals within the return is allowed..\n",
    "'''\n",
    "\n",
    "\n",
    "days = int(input(\"How many days until your birthday? \"))\n",
    "\n",
    "print(round(days/7, 2))"
   ]
  },
  {
   "cell_type": "code",
   "execution_count": 53,
   "metadata": {},
   "outputs": [
    {
     "name": "stdout",
     "output_type": "stream",
     "text": [
      "Hi Eric Roby\n",
      "Hi Eric Roby I hope you are learning\n"
     ]
    }
   ],
   "source": [
    "\"\"\"\n",
    "String Formatting\n",
    "\"\"\"\n",
    "\n",
    "\n",
    "first_name = \"Eric\"\n",
    "\n",
    "sentence = \"Hi {} {}\"\n",
    "last_name = \"Roby\"\n",
    "print(sentence.format(first_name, last_name))\n",
    "\n",
    "print(f\"Hi {first_name} {last_name} I hope you are learning\")\n"
   ]
  },
  {
   "cell_type": "markdown",
   "metadata": {},
   "source": [
    "## User Input"
   ]
  },
  {
   "cell_type": "code",
   "execution_count": 2,
   "metadata": {},
   "outputs": [
    {
     "name": "stdout",
     "output_type": "stream",
     "text": [
      "Enter your first name: Twinkle\n",
      "How many days before your birthday: 30\n",
      "Hi Twinkle, only 30 days are left for your birthday!\n"
     ]
    }
   ],
   "source": [
    "first_name = input(\"Enter your first name: \")\n",
    "days = input(\"How many days before your birthday: \")\n",
    "print(f\"Hi {first_name}, only {days} days \"\n",
    "      f\"are left for your birthday!\")\n"
   ]
  },
  {
   "cell_type": "code",
   "execution_count": 9,
   "metadata": {},
   "outputs": [],
   "source": [
    "class Enemy:\n",
    "    \n",
    "    type_of_enemy: str\n",
    "    health_points: int = 10\n",
    "    atttack_damage: int = 1\n",
    "        \n",
    "    def talk(self):\n",
    "            print(f'I am a {self.type_of_enemy}.Be prepared to fight!')\n",
    "            \n",
    "    def walk_forward(self):\n",
    "            print(f'{self.type_of_enemy} moves closer to you.!')\n",
    "            \n",
    "    def attack(self):\n",
    "            print(f'{self.type_of_enemy} attacks for {self.attack_damage} damage')"
   ]
  },
  {
   "cell_type": "code",
   "execution_count": 10,
   "metadata": {},
   "outputs": [
    {
     "name": "stdout",
     "output_type": "stream",
     "text": [
      "I am a Zombie.Be prepared to fight!\n",
      "None\n"
     ]
    }
   ],
   "source": [
    "enemy = Enemy()\n",
    "enemy.type_of_enemy = 'Zombie'\n",
    "\n",
    "print(enemy.talk())"
   ]
  },
  {
   "cell_type": "markdown",
   "metadata": {},
   "source": [
    "# Pattern Related Questions:-"
   ]
  },
  {
   "cell_type": "markdown",
   "metadata": {},
   "source": [
    "#### Program to reverse an integer without using the reverse function."
   ]
  },
  {
   "cell_type": "code",
   "execution_count": 1,
   "metadata": {},
   "outputs": [
    {
     "name": "stdout",
     "output_type": "stream",
     "text": [
      "Original number: 12345\n",
      "Reversed number: 54321\n"
     ]
    }
   ],
   "source": [
    "def reverse_integer(num):\n",
    "    reversed_num = int(str(num)[::-1])\n",
    "    return reversed_num\n",
    "\n",
    "# Test the function\n",
    "number = 12345\n",
    "reversed_number = reverse_integer(number)\n",
    "print(\"Original number:\", number)\n",
    "print(\"Reversed number:\", reversed_number)\n"
   ]
  },
  {
   "cell_type": "markdown",
   "metadata": {},
   "source": [
    "#### Program to check whether an integer is Armstrong number or not."
   ]
  },
  {
   "cell_type": "code",
   "execution_count": 2,
   "metadata": {},
   "outputs": [
    {
     "name": "stdout",
     "output_type": "stream",
     "text": [
      "153 is an Armstrong number\n"
     ]
    }
   ],
   "source": [
    "def is_armstrong_number(num):\n",
    "    # Convert number to string to calculate length\n",
    "    num_str = str(num)\n",
    "    # Calculate the number of digits in the number\n",
    "    num_digits = len(num_str)\n",
    "    \n",
    "    # Initialize sum\n",
    "    sum = 0\n",
    "    \n",
    "    # Calculate sum of nth power of each digit\n",
    "    for digit in num_str:\n",
    "        sum += int(digit) ** num_digits\n",
    "    \n",
    "    # Check if the sum is equal to the original number\n",
    "    if sum == num:\n",
    "        return True\n",
    "    else:\n",
    "        return False\n",
    "\n",
    "# Test the function\n",
    "number = 153\n",
    "if is_armstrong_number(number):\n",
    "    print(number, \"is an Armstrong number\")\n",
    "else:\n",
    "    print(number, \"is not an Armstrong number\")\n"
   ]
  },
  {
   "cell_type": "markdown",
   "metadata": {},
   "source": [
    "#### Program in Python to print the Fibonacci series using iterative method"
   ]
  },
  {
   "cell_type": "code",
   "execution_count": 3,
   "metadata": {},
   "outputs": [
    {
     "name": "stdout",
     "output_type": "stream",
     "text": [
      "Fibonacci series up to 10 terms: [0, 1, 1, 2, 3, 5, 8, 13, 21, 34]\n"
     ]
    }
   ],
   "source": [
    "def fibonacci_iterative(n):\n",
    "    # Initialize the first two Fibonacci numbers\n",
    "    fib_series = [0, 1]\n",
    "\n",
    "    # Iterate to generate Fibonacci numbers\n",
    "    for i in range(2, n):\n",
    "        next_fib = fib_series[-1] + fib_series[-2]\n",
    "        fib_series.append(next_fib)\n",
    "\n",
    "    return fib_series\n",
    "\n",
    "# Test the function\n",
    "n_terms = 10  # Number of terms in Fibonacci series\n",
    "fibonacci_series = fibonacci_iterative(n_terms)\n",
    "print(\"Fibonacci series up to\", n_terms, \"terms:\", fibonacci_series)\n"
   ]
  },
  {
   "cell_type": "markdown",
   "metadata": {},
   "source": [
    "#### Program to check whether a number is palindrome or not.\n",
    "\n",
    "This code defines a function is_palindrome_iterative that takes an integer as input and checks if it's a palindrome or not using an iterative method. It converts the number to a string for easier manipulation, then initializes left and right pointers and iterates until the left pointer is less than the right pointer. Within the loop, it compares digits at the left and right pointers and moves the pointers towards each other. If any mismatch is found, it returns False; otherwise, it returns True. Finally, it tests the function with a sample input."
   ]
  },
  {
   "cell_type": "code",
   "execution_count": 4,
   "metadata": {},
   "outputs": [
    {
     "name": "stdout",
     "output_type": "stream",
     "text": [
      "12321 is a palindrome\n"
     ]
    }
   ],
   "source": [
    "def is_palindrome_iterative(num):\n",
    "    # Convert number to string for easier manipulation\n",
    "    num_str = str(num)\n",
    "    \n",
    "    # Initialize left and right pointers\n",
    "    left = 0\n",
    "    right = len(num_str) - 1\n",
    "    \n",
    "    # Iterate until left pointer is less than right pointer\n",
    "    while left < right:\n",
    "        # Compare digits at left and right pointers\n",
    "        if num_str[left] != num_str[right]:\n",
    "            return False\n",
    "        # Move pointers towards each other\n",
    "        left += 1\n",
    "        right -= 1\n",
    "    \n",
    "    return True\n",
    "\n",
    "# Test the function\n",
    "number = 12321\n",
    "if is_palindrome_iterative(number):\n",
    "    print(number, \"is a palindrome\")\n",
    "else:\n",
    "    print(number, \"is not a palindrome\")\n"
   ]
  },
  {
   "cell_type": "markdown",
   "metadata": {},
   "source": [
    "#### Program  to find given number is perfect or not"
   ]
  },
  {
   "cell_type": "code",
   "execution_count": 5,
   "metadata": {},
   "outputs": [
    {
     "name": "stdout",
     "output_type": "stream",
     "text": [
      "28 is a perfect number\n"
     ]
    }
   ],
   "source": [
    "def is_perfect_number(num):\n",
    "    if num <= 0:\n",
    "        return False\n",
    "\n",
    "    divisor_sum = 0\n",
    "    for i in range(1, num):\n",
    "        if num % i == 0:\n",
    "            divisor_sum += i\n",
    "\n",
    "    return divisor_sum == num\n",
    "\n",
    "# Test the function\n",
    "number = 28\n",
    "if is_perfect_number(number):\n",
    "    print(number, \"is a perfect number\")\n",
    "else:\n",
    "    print(number, \"is not a perfect number\")\n"
   ]
  },
  {
   "cell_type": "code",
   "execution_count": null,
   "metadata": {},
   "outputs": [],
   "source": []
  },
  {
   "cell_type": "markdown",
   "metadata": {},
   "source": [
    "## Program to print patterns:"
   ]
  },
  {
   "cell_type": "code",
   "execution_count": 6,
   "metadata": {},
   "outputs": [
    {
     "name": "stdout",
     "output_type": "stream",
     "text": [
      "    1 a \n",
      "   2 b 3 c \n",
      "  4 d 5 e 6 f \n",
      " 7 g 8 h 9 i 10 j \n",
      "11 k 12 l 13 m 14 n 15 o \n"
     ]
    }
   ],
   "source": [
    "def print_pyramid(rows):\n",
    "    # Initialize counter for printing numbers\n",
    "    num_counter = 1\n",
    "    \n",
    "    # Iterate over each row\n",
    "    for i in range(1, rows + 1):\n",
    "        # Print spaces for formatting\n",
    "        print(\" \" * (rows - i), end=\"\")\n",
    "        \n",
    "        # Iterate over each column in the row\n",
    "        for j in range(1, i + 1):\n",
    "            # Print number and corresponding character\n",
    "            print(num_counter, chr(96 + num_counter), end=\" \")\n",
    "            num_counter += 1\n",
    "        \n",
    "        # Move to the next line after each row\n",
    "        print()\n",
    "\n",
    "# Number of rows in the pyramid\n",
    "rows = 5\n",
    "# Call the function to print the pyramid\n",
    "print_pyramid(rows)\n"
   ]
  },
  {
   "cell_type": "code",
   "execution_count": null,
   "metadata": {},
   "outputs": [],
   "source": []
  },
  {
   "cell_type": "code",
   "execution_count": 7,
   "metadata": {},
   "outputs": [
    {
     "name": "stdout",
     "output_type": "stream",
     "text": [
      "* * * * * \n",
      "    * * * * \n",
      "        * * * \n",
      "            * * \n",
      "                * \n",
      "            * * \n",
      "        * * * \n",
      "    * * * * \n",
      "* * * * * \n"
     ]
    }
   ],
   "source": [
    "def print_star_pyramid(rows):\n",
    "    # Loop for upper half of the pyramid\n",
    "    for i in range(0, rows):\n",
    "        # Print leading spaces\n",
    "        print(\" \" * (i * 4), end=\"\")\n",
    "        # Print stars\n",
    "        print(\"* \" * (rows - i))\n",
    "    \n",
    "    # Loop for lower half of the pyramid\n",
    "    for i in range(rows - 2, -1, -1):\n",
    "        # Print leading spaces\n",
    "        print(\" \" * (i * 4), end=\"\")\n",
    "        # Print stars\n",
    "        print(\"* \" * (rows - i))\n",
    "\n",
    "# Number of rows in the pyramid\n",
    "rows = 5\n",
    "# Call the function to print the pyramid\n",
    "print_star_pyramid(rows)\n"
   ]
  },
  {
   "cell_type": "code",
   "execution_count": null,
   "metadata": {},
   "outputs": [],
   "source": []
  },
  {
   "cell_type": "code",
   "execution_count": 8,
   "metadata": {},
   "outputs": [
    {
     "name": "stdout",
     "output_type": "stream",
     "text": [
      "* * * * * * * * * * * * \n",
      "  * * * * * * * * * * * \n",
      "    * * * * * * * * * * \n",
      "      * * * * * * * * * \n",
      "        * * * * * * * * \n",
      "          * * * * * * * \n",
      "            * * * * * * \n",
      "              * * * * * \n",
      "                * * * * \n",
      "                  * * * \n",
      "                    * * \n",
      "                      * \n",
      "                    * * \n",
      "                  * * * \n",
      "                * * * * \n",
      "              * * * * * \n",
      "            * * * * * * \n",
      "          * * * * * * * \n",
      "        * * * * * * * * \n",
      "      * * * * * * * * * \n",
      "    * * * * * * * * * * \n",
      "  * * * * * * * * * * * \n",
      "* * * * * * * * * * * * \n"
     ]
    }
   ],
   "source": [
    "def print_pattern(rows):\n",
    "    # Loop for upper half of the pattern\n",
    "    for i in range(0, rows):\n",
    "        # Print leading spaces\n",
    "        print(\" \" * (i * 2), end=\"\")\n",
    "        # Print stars\n",
    "        print(\"* \" * (rows - i))\n",
    "    \n",
    "    # Loop for lower half of the pattern\n",
    "    for i in range(rows - 2, -1, -1):\n",
    "        # Print leading spaces\n",
    "        print(\" \" * (i * 2), end=\"\")\n",
    "        # Print stars\n",
    "        print(\"* \" * (rows - i))\n",
    "\n",
    "# Number of rows in the pattern\n",
    "rows = 12\n",
    "# Call the function to print the pattern\n",
    "print_pattern(rows)\n"
   ]
  },
  {
   "cell_type": "code",
   "execution_count": null,
   "metadata": {},
   "outputs": [],
   "source": []
  },
  {
   "cell_type": "code",
   "execution_count": 1,
   "metadata": {},
   "outputs": [
    {
     "name": "stdout",
     "output_type": "stream",
     "text": [
      "* * * * * \n",
      "* * * * \n",
      "* * * \n",
      "* * \n",
      "* \n"
     ]
    }
   ],
   "source": [
    "rows = 5\n",
    "\n",
    "for i in range(rows, 0, -1):\n",
    "    for j in range(0, i):\n",
    "        print(\"* \", end=\"\")\n",
    "    print()\n"
   ]
  },
  {
   "cell_type": "markdown",
   "metadata": {},
   "source": [
    "### Run 'for' loop and find the product & average of first 20 natural numbers"
   ]
  },
  {
   "cell_type": "code",
   "execution_count": 2,
   "metadata": {},
   "outputs": [
    {
     "name": "stdout",
     "output_type": "stream",
     "text": [
      "Product of the first 20 natural numbers: 2432902008176640000\n",
      "Average of the first 20 natural numbers: 10.5\n"
     ]
    }
   ],
   "source": [
    "# Initialize variables\n",
    "product = 1\n",
    "total = 0\n",
    "\n",
    "# Calculate product and total\n",
    "for i in range(1, 21):\n",
    "    product *= i\n",
    "    total += i\n",
    "\n",
    "# Calculate average\n",
    "average = total / 20\n",
    "\n",
    "print(\"Product of the first 20 natural numbers:\", product)\n",
    "print(\"Average of the first 20 natural numbers:\", average)\n"
   ]
  },
  {
   "cell_type": "markdown",
   "metadata": {},
   "source": [
    "### Program to print a multiplication table of a number provided by the user:"
   ]
  },
  {
   "cell_type": "code",
   "execution_count": 3,
   "metadata": {},
   "outputs": [
    {
     "name": "stdout",
     "output_type": "stream",
     "text": [
      "Enter a number: 78\n",
      "Multiplication Table of 78\n",
      "78 x 1 = 78\n",
      "78 x 2 = 156\n",
      "78 x 3 = 234\n",
      "78 x 4 = 312\n",
      "78 x 5 = 390\n",
      "78 x 6 = 468\n",
      "78 x 7 = 546\n",
      "78 x 8 = 624\n",
      "78 x 9 = 702\n",
      "78 x 10 = 780\n"
     ]
    }
   ],
   "source": [
    "# Get input from user\n",
    "number = int(input(\"Enter a number: \"))\n",
    "\n",
    "# Print multiplication table\n",
    "print(\"Multiplication Table of\", number)\n",
    "for i in range(1, 11):\n",
    "    print(number, \"x\", i, \"=\", number * i)"
   ]
  },
  {
   "cell_type": "markdown",
   "metadata": {},
   "source": [
    "#### To find the sum of the powers of 2 from 2^1 to 2^6"
   ]
  },
  {
   "cell_type": "code",
   "execution_count": 5,
   "metadata": {},
   "outputs": [
    {
     "name": "stdout",
     "output_type": "stream",
     "text": [
      "Sum of powers of 2 from 2^1 to 2^6: 126\n"
     ]
    }
   ],
   "source": [
    "# Initialize variables\n",
    "power_sum = 0\n",
    "\n",
    "# Calculate the sum of powers of 2 from 2^1 to 2^6\n",
    "for i in range(1, 7):\n",
    "    power_sum += 2 ** i\n",
    "\n",
    "print(\"Sum of powers of 2 from 2^1 to 2^6:\", power_sum)"
   ]
  },
  {
   "cell_type": "markdown",
   "metadata": {},
   "source": [
    "#### Take a string from the user and find out the total consonant which are available in a string"
   ]
  },
  {
   "cell_type": "code",
   "execution_count": 6,
   "metadata": {},
   "outputs": [
    {
     "name": "stdout",
     "output_type": "stream",
     "text": [
      "Enter a string: Hey! I am a Python code.\n",
      "Total consonants in the string: 10\n"
     ]
    }
   ],
   "source": [
    "# Function to check if a character is a consonant\n",
    "def is_consonant(char):\n",
    "    consonants = \"bcdfghjklmnpqrstvwxyzBCDFGHJKLMNPQRSTVWXYZ\"\n",
    "    return char in consonants\n",
    "\n",
    "# Get input from user\n",
    "user_input = input(\"Enter a string: \")\n",
    "\n",
    "# Initialize count variable for consonants\n",
    "consonant_count = 0\n",
    "\n",
    "# Count consonants in the string\n",
    "for char in user_input:\n",
    "    if is_consonant(char):\n",
    "        consonant_count += 1\n",
    "\n",
    "print(\"Total consonants in the string:\", consonant_count)\n"
   ]
  },
  {
   "cell_type": "markdown",
   "metadata": {},
   "source": [
    "#### Take a int number from the user and find out the total sum, average and the product of that numbers from 1 to the input provided only for odd values"
   ]
  },
  {
   "cell_type": "code",
   "execution_count": 7,
   "metadata": {},
   "outputs": [
    {
     "name": "stdout",
     "output_type": "stream",
     "text": [
      "Enter a number: 56\n",
      "Total sum of odd numbers from 1 to 56 : 784\n",
      "Average of odd numbers from 1 to 56 : 28.0\n",
      "Product of odd numbers from 1 to 56 : 8687364368561751199826958100282265625\n"
     ]
    }
   ],
   "source": [
    "# Function to calculate product\n",
    "def calculate_product(numbers):\n",
    "    product = 1\n",
    "    for num in numbers:\n",
    "        product *= num\n",
    "    return product\n",
    "\n",
    "# Get input from user\n",
    "number = int(input(\"Enter a number: \"))\n",
    "\n",
    "# Initialize variables\n",
    "odd_numbers = []\n",
    "total_sum = 0\n",
    "\n",
    "# Calculate sum and collect odd numbers\n",
    "for i in range(1, number + 1):\n",
    "    if i % 2 != 0:\n",
    "        odd_numbers.append(i)\n",
    "        total_sum += i\n",
    "\n",
    "# Calculate average\n",
    "average = total_sum / len(odd_numbers)\n",
    "\n",
    "# Calculate product\n",
    "product = calculate_product(odd_numbers)\n",
    "\n",
    "print(\"Total sum of odd numbers from 1 to\", number, \":\", total_sum)\n",
    "print(\"Average of odd numbers from 1 to\", number, \":\", average)\n",
    "print(\"Product of odd numbers from 1 to\", number, \":\", product)\n"
   ]
  },
  {
   "cell_type": "markdown",
   "metadata": {},
   "source": [
    "#### Program that stores a number and keeps trying to get user input until the user enters the number correctly. As soon as the correct number is entered, it prints: Correct!"
   ]
  },
  {
   "cell_type": "code",
   "execution_count": 8,
   "metadata": {},
   "outputs": [
    {
     "name": "stdout",
     "output_type": "stream",
     "text": [
      "Guess the number: 56\n",
      "Incorrect! Try again.\n",
      "Guess the number: 43\n",
      "Incorrect! Try again.\n",
      "Guess the number: 23\n",
      "Incorrect! Try again.\n",
      "Guess the number: 87\n",
      "Incorrect! Try again.\n",
      "Guess the number: 42\n",
      "Correct!\n"
     ]
    }
   ],
   "source": [
    "# Store the correct number\n",
    "correct_number = 42\n",
    "\n",
    "# Keep asking the user for input until they enter the correct number\n",
    "while True:\n",
    "    try:\n",
    "        # Get user input\n",
    "        user_input = int(input(\"Guess the number: \"))\n",
    "        \n",
    "        # Check if the input matches the correct number\n",
    "        if user_input == correct_number:\n",
    "            print(\"Correct!\")\n",
    "            break  # Exit the loop if the correct number is entered\n",
    "        else:\n",
    "            print(\"Incorrect! Try again.\")\n",
    "    except ValueError:\n",
    "        print(\"Invalid input. Please enter a valid number.\")\n"
   ]
  },
  {
   "cell_type": "markdown",
   "metadata": {},
   "source": [
    "#### program to accept an input string from the user and toggle the character cases according to the below given example .For example:  $str=” Hello How Are You?” . O/p : hELLO hOW aRE yOU"
   ]
  },
  {
   "cell_type": "code",
   "execution_count": 9,
   "metadata": {},
   "outputs": [
    {
     "name": "stdout",
     "output_type": "stream",
     "text": [
      "Enter a string: HellO hOw ArE You?\n",
      "Toggled string: hELLo HoW aRe yOU?\n"
     ]
    }
   ],
   "source": [
    "# Accept input string from the user\n",
    "input_str = input(\"Enter a string: \")\n",
    "\n",
    "# Toggle the case of characters\n",
    "toggled_str = input_str.swapcase()\n",
    "\n",
    "# Print the toggled string\n",
    "print(\"Toggled string:\", toggled_str)\n"
   ]
  },
  {
   "cell_type": "markdown",
   "metadata": {},
   "source": [
    "#### Program to remove duplicates"
   ]
  },
  {
   "cell_type": "code",
   "execution_count": 9,
   "metadata": {},
   "outputs": [
    {
     "name": "stdout",
     "output_type": "stream",
     "text": [
      "Original list: [1, 1, 2, 2, 2, 3, 4, 5, 5, 6, 7, 7, 8, 8]\n",
      "List after removing duplicates: [1, 2, 3, 4, 5, 6, 7, 8]\n",
      "Number of unique elements: 8\n"
     ]
    }
   ],
   "source": [
    "def remove_duplicates(nums):\n",
    "    if not nums:\n",
    "        return 0\n",
    "\n",
    "    # Initialize two pointers\n",
    "    left = 0\n",
    "\n",
    "    # Iterate through the list with the right pointer\n",
    "    for right in range(1, len(nums)):\n",
    "        # If the current element is different from the previous element,\n",
    "        # move the left pointer and update the element at that position\n",
    "        if nums[right] != nums[left]:\n",
    "            left += 1\n",
    "            nums[left] = nums[right]\n",
    "\n",
    "    # The number of unique elements is the position of the left pointer + 1\n",
    "    return left + 1\n",
    "\n",
    "# Test the function\n",
    "nums = [1, 1, 2, 2, 2, 3, 4, 5, 5, 6, 7, 7, 8, 8]\n",
    "print(\"Original list:\", nums)\n",
    "unique_count = remove_duplicates(nums)\n",
    "print(\"List after removing duplicates:\", nums[:unique_count])\n",
    "print(\"Number of unique elements:\", unique_count)\n"
   ]
  },
  {
   "cell_type": "code",
   "execution_count": null,
   "metadata": {},
   "outputs": [],
   "source": []
  },
  {
   "cell_type": "markdown",
   "metadata": {},
   "source": [
    "# Thank You!"
   ]
  }
 ],
 "metadata": {
  "kernelspec": {
   "display_name": "Python 3",
   "language": "python",
   "name": "python3"
  },
  "language_info": {
   "codemirror_mode": {
    "name": "ipython",
    "version": 3
   },
   "file_extension": ".py",
   "mimetype": "text/x-python",
   "name": "python",
   "nbconvert_exporter": "python",
   "pygments_lexer": "ipython3",
   "version": "3.8.5"
  }
 },
 "nbformat": 4,
 "nbformat_minor": 4
}
